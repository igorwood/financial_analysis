{
    "cells": [
        {
            "cell_type": "markdown",
            "metadata": {},
            "source": "# The VIX Index Calculation:  Step-by-Step "
        },
        {
            "cell_type": "markdown",
            "metadata": {},
            "source": "$\\sigma^2=\\frac{2}{T}\\sum_i\\frac{\\varDelta K_i}{K_i^2}e^{RT}Q(K_i)-\\frac{1}{T}[\\frac{F}{K_0}-1]^2$"
        },
        {
            "cell_type": "markdown",
            "metadata": {},
            "source": "$\\sigma = \\frac{VIX}{100}$\n\n$T$: Time to expiration\n\n$F$: Forward index level derived from index option prices\n\n$K_0$: First strike below the forward index level, $F$\n\n$K_i$: Strike price of ith out-of-the-money option; a call if $K_i > K_0$ and a put if $K_i < K_0$; both put and call if $K_i = K_0$.\n\n$\\varDelta K_i$: Interval between strike prices - half the difference between the strike on either side of $K_i$\n\n$\\varDelta K_i=\\frac{K_{i+1}-K_{i-1}}{2}$\n\n$R$: Risk-free interest rate to expiration\n\n$Q(K_i)$: The midpoint of the bid-ask spread for each option with strike $K_i$."
        },
        {
            "cell_type": "markdown",
            "metadata": {},
            "source": "## Getting Started"
        },
        {
            "cell_type": "markdown",
            "metadata": {},
            "source": "$T =\\frac{M_{Current day} + M_{Settlement day} + M_{Other days}}{Minutes in a year}$\n\n$M_{Current day}$: minutes remaining until midnight of the current day\n\n$M_{Settlement day}$: minutes from midnight until 9:30 a.m. ET for 'standard' SPX expirations; or minutes from midnight until 4:00 p.m. ET for 'weekly' SPX expirations\n\n$M_{Other days}$: total minutes in the days between current day and expiration day"
        },
        {
            "cell_type": "code",
            "execution_count": 89,
            "metadata": {},
            "outputs": [],
            "source": "def getTime(M_current, M_settlement, M_other, M_in_year):\n    return (M_current + M_settlement + M_other) / M_in_year"
        },
        {
            "cell_type": "code",
            "execution_count": 5,
            "metadata": {},
            "outputs": [],
            "source": "import datetime"
        },
        {
            "cell_type": "markdown",
            "metadata": {},
            "source": "$M_{currentday}$"
        },
        {
            "cell_type": "code",
            "execution_count": 83,
            "metadata": {},
            "outputs": [
                {
                    "name": "stdout",
                    "output_type": "stream",
                    "text": "M_current: 371.95 mins\n"
                }
            ],
            "source": "today = datetime.datetime.now()\ntomorrow = datetime.datetime(today.year, today.month, today.day + 1, 0, 0, 0, 0)\ndiff = tomorrow - today\nM_current = diff.seconds / 60\nprint('M_current: {} mins'.format(M_current))"
        },
        {
            "cell_type": "markdown",
            "metadata": {},
            "source": "$M_{settlement day}$"
        },
        {
            "cell_type": "code",
            "execution_count": 84,
            "metadata": {},
            "outputs": [
                {
                    "name": "stdout",
                    "output_type": "stream",
                    "text": "M_settlement_near_term: 570.0 mins\tM_settlement_next_term: 570.0 mins\n"
                }
            ],
            "source": "M_settlement_near_term = datetime.datetime(today.year, today.month + 1, 1, 9, 30, 0, 0) - datetime.datetime(today.year, today.month + 1, 1, 0, 0, 0, 0)\nM_settlement_near_term = M_settlement_near_term.total_seconds() / 60\n\nM_settlement_next_term = datetime.datetime(today.year, today.month + 2, 1, 9, 30, 0, 0) - datetime.datetime(today.year, today.month + 2, 1, 0, 0, 0, 0)\nM_settlement_next_term = M_settlement_next_term.total_seconds() / 60\nprint('M_settlement_near_term: {} mins\\tM_settlement_next_term: {} mins'.format(M_settlement_near_term, M_settlement_next_term))"
        },
        {
            "cell_type": "markdown",
            "metadata": {},
            "source": "$M_{other days}$"
        },
        {
            "cell_type": "code",
            "execution_count": 92,
            "metadata": {},
            "outputs": [
                {
                    "name": "stdout",
                    "output_type": "stream",
                    "text": "M_other_near_term: 8640 mins\tM_other_next_term: 51840 mins\n"
                }
            ],
            "source": "M_other_near_term = datetime.datetime(today.year, today.month + 1, 1, 0, 0, 0, 0) - today\nM_other_next_term = datetime.datetime(today.year, today.month + 2, 1, 0, 0, 0, 0) - today\n\nM_other_near_term = M_other_near_term.days * 24 * 60\nM_other_next_term = M_other_next_term.days * 24 * 60\nprint('M_other_near_term: {} mins\\tM_other_next_term: {} mins'.format(M_other_near_term, M_other_next_term))"
        },
        {
            "cell_type": "markdown",
            "metadata": {},
            "source": "$M_{year}$"
        },
        {
            "cell_type": "code",
            "execution_count": 87,
            "metadata": {},
            "outputs": [
                {
                    "name": "stdout",
                    "output_type": "stream",
                    "text": "M_year: 525600 mins\n"
                }
            ],
            "source": "M_year = 365 * 24 * 60\nprint('M_year: {} mins'.format(M_year))"
        },
        {
            "cell_type": "markdown",
            "metadata": {},
            "source": "$T_1$ and $T_2$ - Time weights"
        },
        {
            "cell_type": "code",
            "execution_count": 95,
            "metadata": {},
            "outputs": [
                {
                    "name": "stdout",
                    "output_type": "stream",
                    "text": "T1: 0.018230498477929985 mins\tT2: 0.10042227929984779 mins\n"
                }
            ],
            "source": "T1 = getTime(M_current, M_settlement_near_term, M_other_near_term, M_year)\nT2 = getTime(M_current, M_settlement_next_term, M_other_next_term, M_year)\nprint('T1: {} mins\\tT2: {} mins'.format(T1, T2))"
        },
        {
            "cell_type": "markdown",
            "metadata": {},
            "source": "$R$: Risk-free rate\n\n$R_1$: for the near-term options\n\n$R_2$: for the next-term options"
        },
        {
            "cell_type": "code",
            "execution_count": 97,
            "metadata": {},
            "outputs": [],
            "source": "R1 = 0.0165\nR2 = 0.0151"
        },
        {
            "cell_type": "markdown",
            "metadata": {},
            "source": "## Step 1: Select the options to be used in the VIX Index calculation "
        },
        {
            "cell_type": "markdown",
            "metadata": {},
            "source": "### Load Option data"
        },
        {
            "cell_type": "code",
            "execution_count": 99,
            "metadata": {},
            "outputs": [],
            "source": "import pandas as pd"
        },
        {
            "cell_type": "code",
            "execution_count": 100,
            "metadata": {},
            "outputs": [],
            "source": "df = pd.read_csv('Option_price.csv')"
        },
        {
            "cell_type": "code",
            "execution_count": 127,
            "metadata": {},
            "outputs": [
                {
                    "data": {
                        "text/html": "<div>\n<style scoped>\n    .dataframe tbody tr th:only-of-type {\n        vertical-align: middle;\n    }\n\n    .dataframe tbody tr th {\n        vertical-align: top;\n    }\n\n    .dataframe thead th {\n        text-align: right;\n    }\n</style>\n<table border=\"1\" class=\"dataframe\">\n  <thead>\n    <tr style=\"text-align: right;\">\n      <th></th>\n      <th>Unnamed: 0</th>\n      <th>id</th>\n      <th>code</th>\n      <th>trading_code</th>\n      <th>name</th>\n      <th>contract_type</th>\n      <th>exchange_code</th>\n      <th>currency_id</th>\n      <th>underlying_symbol</th>\n      <th>underlying_name</th>\n      <th>...</th>\n      <th>list_price</th>\n      <th>high_limit</th>\n      <th>low_limit</th>\n      <th>expire_date</th>\n      <th>last_trade_date</th>\n      <th>exercise_date</th>\n      <th>delivery_date</th>\n      <th>is_adjust</th>\n      <th>delist_date</th>\n      <th>delist_reason</th>\n    </tr>\n  </thead>\n  <tbody>\n    <tr>\n      <th>1908</th>\n      <td>1908</td>\n      <td>18427</td>\n      <td>10001909.XSHG</td>\n      <td>510050C2003A02750</td>\n      <td>50ETF\u8d2d3\u67082706A</td>\n      <td>CO</td>\n      <td>XSHG</td>\n      <td>CNY</td>\n      <td>510050.XSHG</td>\n      <td>50ETF</td>\n      <td>...</td>\n      <td>0.3401</td>\n      <td>0.6353</td>\n      <td>0.0449</td>\n      <td>2020-03-25</td>\n      <td>2020-03-25</td>\n      <td>2020-03-25</td>\n      <td>2020-03-26</td>\n      <td>1</td>\n      <td>NaN</td>\n      <td>NaN</td>\n    </tr>\n    <tr>\n      <th>1909</th>\n      <td>1909</td>\n      <td>18428</td>\n      <td>10001910.XSHG</td>\n      <td>510050C2003A02800</td>\n      <td>50ETF\u8d2d3\u67082755A</td>\n      <td>CO</td>\n      <td>XSHG</td>\n      <td>CNY</td>\n      <td>510050.XSHG</td>\n      <td>50ETF</td>\n      <td>...</td>\n      <td>0.3085</td>\n      <td>0.6037</td>\n      <td>0.0133</td>\n      <td>2020-03-25</td>\n      <td>2020-03-25</td>\n      <td>2020-03-25</td>\n      <td>2020-03-26</td>\n      <td>1</td>\n      <td>NaN</td>\n      <td>NaN</td>\n    </tr>\n    <tr>\n      <th>1910</th>\n      <td>1910</td>\n      <td>18429</td>\n      <td>10001911.XSHG</td>\n      <td>510050C2003A02850</td>\n      <td>50ETF\u8d2d3\u67082804A</td>\n      <td>CO</td>\n      <td>XSHG</td>\n      <td>CNY</td>\n      <td>510050.XSHG</td>\n      <td>50ETF</td>\n      <td>...</td>\n      <td>0.2814</td>\n      <td>0.5766</td>\n      <td>0.0001</td>\n      <td>2020-03-25</td>\n      <td>2020-03-25</td>\n      <td>2020-03-25</td>\n      <td>2020-03-26</td>\n      <td>1</td>\n      <td>NaN</td>\n      <td>NaN</td>\n    </tr>\n    <tr>\n      <th>1911</th>\n      <td>1911</td>\n      <td>18430</td>\n      <td>10001912.XSHG</td>\n      <td>510050C2003A02900</td>\n      <td>50ETF\u8d2d3\u67082853A</td>\n      <td>CO</td>\n      <td>XSHG</td>\n      <td>CNY</td>\n      <td>510050.XSHG</td>\n      <td>50ETF</td>\n      <td>...</td>\n      <td>0.2542</td>\n      <td>0.5494</td>\n      <td>0.0001</td>\n      <td>2020-03-25</td>\n      <td>2020-03-25</td>\n      <td>2020-03-25</td>\n      <td>2020-03-26</td>\n      <td>1</td>\n      <td>NaN</td>\n      <td>NaN</td>\n    </tr>\n    <tr>\n      <th>1912</th>\n      <td>1912</td>\n      <td>18431</td>\n      <td>10001913.XSHG</td>\n      <td>510050C2003A02950</td>\n      <td>50ETF\u8d2d3\u67082903A</td>\n      <td>CO</td>\n      <td>XSHG</td>\n      <td>CNY</td>\n      <td>510050.XSHG</td>\n      <td>50ETF</td>\n      <td>...</td>\n      <td>0.2285</td>\n      <td>0.5237</td>\n      <td>0.0001</td>\n      <td>2020-03-25</td>\n      <td>2020-03-25</td>\n      <td>2020-03-25</td>\n      <td>2020-03-26</td>\n      <td>1</td>\n      <td>NaN</td>\n      <td>NaN</td>\n    </tr>\n  </tbody>\n</table>\n<p>5 rows \u00d7 27 columns</p>\n</div>",
                        "text/plain": "      Unnamed: 0     id           code       trading_code           name  \\\n1908        1908  18427  10001909.XSHG  510050C2003A02750  50ETF\u8d2d3\u67082706A   \n1909        1909  18428  10001910.XSHG  510050C2003A02800  50ETF\u8d2d3\u67082755A   \n1910        1910  18429  10001911.XSHG  510050C2003A02850  50ETF\u8d2d3\u67082804A   \n1911        1911  18430  10001912.XSHG  510050C2003A02900  50ETF\u8d2d3\u67082853A   \n1912        1912  18431  10001913.XSHG  510050C2003A02950  50ETF\u8d2d3\u67082903A   \n\n     contract_type exchange_code currency_id underlying_symbol  \\\n1908            CO          XSHG         CNY       510050.XSHG   \n1909            CO          XSHG         CNY       510050.XSHG   \n1910            CO          XSHG         CNY       510050.XSHG   \n1911            CO          XSHG         CNY       510050.XSHG   \n1912            CO          XSHG         CNY       510050.XSHG   \n\n     underlying_name      ...       list_price high_limit  low_limit  \\\n1908           50ETF      ...           0.3401     0.6353     0.0449   \n1909           50ETF      ...           0.3085     0.6037     0.0133   \n1910           50ETF      ...           0.2814     0.5766     0.0001   \n1911           50ETF      ...           0.2542     0.5494     0.0001   \n1912           50ETF      ...           0.2285     0.5237     0.0001   \n\n      expire_date last_trade_date exercise_date delivery_date  is_adjust  \\\n1908   2020-03-25      2020-03-25    2020-03-25    2020-03-26          1   \n1909   2020-03-25      2020-03-25    2020-03-25    2020-03-26          1   \n1910   2020-03-25      2020-03-25    2020-03-25    2020-03-26          1   \n1911   2020-03-25      2020-03-25    2020-03-25    2020-03-26          1   \n1912   2020-03-25      2020-03-25    2020-03-25    2020-03-26          1   \n\n      delist_date  delist_reason  \n1908          NaN            NaN  \n1909          NaN            NaN  \n1910          NaN            NaN  \n1911          NaN            NaN  \n1912          NaN            NaN  \n\n[5 rows x 27 columns]"
                    },
                    "execution_count": 127,
                    "metadata": {},
                    "output_type": "execute_result"
                }
            ],
            "source": "ontrade = df[(df['delist_reason'] != '\u5408\u7ea6\u5230\u671f') & (df['underlying_name'] == '50ETF')]\nontrade.head()"
        },
        {
            "cell_type": "code",
            "execution_count": 139,
            "metadata": {},
            "outputs": [],
            "source": "expire_date_near_term = '2020-03-25'\nexpire_date_next_term = '2020-04-22'"
        },
        {
            "cell_type": "code",
            "execution_count": 143,
            "metadata": {},
            "outputs": [],
            "source": "Near_Term_Options_table = ontrade[ontrade['expire_date'] == expire_date_near_term]\nNext_Term_Options_table = ontrade[ontrade['expire_date'] == expire_date_next_term]"
        },
        {
            "cell_type": "code",
            "execution_count": 192,
            "metadata": {},
            "outputs": [],
            "source": "# Near Term Call Options\nNear_Term_Call_Options = Near_Term_Options_table[(Near_Term_Options_table['contract_type'] == 'CO')]\nNear_Term_Call_Options = Near_Term_Call_Options[['name', 'list_price']]\n# Next Term Call Options\nNext_Term_Call_Options = Next_Term_Options_table[(Next_Term_Options_table['contract_type'] == 'CO')]\nNext_Term_Call_Options = Next_Term_Call_Options[['name', 'list_price']]"
        },
        {
            "cell_type": "code",
            "execution_count": 151,
            "metadata": {},
            "outputs": [
                {
                    "data": {
                        "text/html": "<div>\n<style scoped>\n    .dataframe tbody tr th:only-of-type {\n        vertical-align: middle;\n    }\n\n    .dataframe tbody tr th {\n        vertical-align: top;\n    }\n\n    .dataframe thead th {\n        text-align: right;\n    }\n</style>\n<table border=\"1\" class=\"dataframe\">\n  <thead>\n    <tr style=\"text-align: right;\">\n      <th></th>\n      <th>name</th>\n      <th>list_price</th>\n    </tr>\n  </thead>\n  <tbody>\n    <tr>\n      <th>1908</th>\n      <td>50ETF\u8d2d3\u67082706A</td>\n      <td>0.3401</td>\n    </tr>\n    <tr>\n      <th>1909</th>\n      <td>50ETF\u8d2d3\u67082755A</td>\n      <td>0.3085</td>\n    </tr>\n    <tr>\n      <th>1910</th>\n      <td>50ETF\u8d2d3\u67082804A</td>\n      <td>0.2814</td>\n    </tr>\n    <tr>\n      <th>1911</th>\n      <td>50ETF\u8d2d3\u67082853A</td>\n      <td>0.2542</td>\n    </tr>\n    <tr>\n      <th>1912</th>\n      <td>50ETF\u8d2d3\u67082903A</td>\n      <td>0.2285</td>\n    </tr>\n  </tbody>\n</table>\n</div>",
                        "text/plain": "               name  list_price\n1908  50ETF\u8d2d3\u67082706A      0.3401\n1909  50ETF\u8d2d3\u67082755A      0.3085\n1910  50ETF\u8d2d3\u67082804A      0.2814\n1911  50ETF\u8d2d3\u67082853A      0.2542\n1912  50ETF\u8d2d3\u67082903A      0.2285"
                    },
                    "execution_count": 151,
                    "metadata": {},
                    "output_type": "execute_result"
                }
            ],
            "source": "Near_Term_Call_Options.head()"
        },
        {
            "cell_type": "code",
            "execution_count": 193,
            "metadata": {},
            "outputs": [
                {
                    "data": {
                        "text/html": "<div>\n<style scoped>\n    .dataframe tbody tr th:only-of-type {\n        vertical-align: middle;\n    }\n\n    .dataframe tbody tr th {\n        vertical-align: top;\n    }\n\n    .dataframe thead th {\n        text-align: right;\n    }\n</style>\n<table border=\"1\" class=\"dataframe\">\n  <thead>\n    <tr style=\"text-align: right;\">\n      <th></th>\n      <th>name</th>\n      <th>list_price</th>\n    </tr>\n  </thead>\n  <tbody>\n    <tr>\n      <th>2332</th>\n      <td>50ETF\u8d2d4\u67082700</td>\n      <td>0.2442</td>\n    </tr>\n    <tr>\n      <th>2333</th>\n      <td>50ETF\u8d2d4\u67082750</td>\n      <td>0.2009</td>\n    </tr>\n    <tr>\n      <th>2334</th>\n      <td>50ETF\u8d2d4\u67082800</td>\n      <td>0.1651</td>\n    </tr>\n    <tr>\n      <th>2335</th>\n      <td>50ETF\u8d2d4\u67082850</td>\n      <td>0.1349</td>\n    </tr>\n    <tr>\n      <th>2336</th>\n      <td>50ETF\u8d2d4\u67082900</td>\n      <td>0.1060</td>\n    </tr>\n  </tbody>\n</table>\n</div>",
                        "text/plain": "              name  list_price\n2332  50ETF\u8d2d4\u67082700      0.2442\n2333  50ETF\u8d2d4\u67082750      0.2009\n2334  50ETF\u8d2d4\u67082800      0.1651\n2335  50ETF\u8d2d4\u67082850      0.1349\n2336  50ETF\u8d2d4\u67082900      0.1060"
                    },
                    "execution_count": 193,
                    "metadata": {},
                    "output_type": "execute_result"
                }
            ],
            "source": "Next_Term_Call_Options.head()"
        },
        {
            "cell_type": "code",
            "execution_count": 194,
            "metadata": {},
            "outputs": [],
            "source": "# Near Term Put Options\nNear_Term_Put_Options = Near_Term_Options_table[(Near_Term_Options_table['contract_type'] == 'PO')]\nNear_Term_Put_Options = Near_Term_Put_Options[['name', 'list_price']]\n# Next Term Put Options\nNext_Term_Put_Options = Next_Term_Options_table[(Next_Term_Options_table['contract_type'] == 'PO')]\nNext_Term_Put_Options = Next_Term_Put_Options[['name', 'list_price']]"
        },
        {
            "cell_type": "code",
            "execution_count": 195,
            "metadata": {},
            "outputs": [
                {
                    "data": {
                        "text/html": "<div>\n<style scoped>\n    .dataframe tbody tr th:only-of-type {\n        vertical-align: middle;\n    }\n\n    .dataframe tbody tr th {\n        vertical-align: top;\n    }\n\n    .dataframe thead th {\n        text-align: right;\n    }\n</style>\n<table border=\"1\" class=\"dataframe\">\n  <thead>\n    <tr style=\"text-align: right;\">\n      <th></th>\n      <th>name</th>\n      <th>list_price</th>\n    </tr>\n  </thead>\n  <tbody>\n    <tr>\n      <th>1917</th>\n      <td>50ETF\u6cbd3\u67082706A</td>\n      <td>0.0897</td>\n    </tr>\n    <tr>\n      <th>1918</th>\n      <td>50ETF\u6cbd3\u67082755A</td>\n      <td>0.1089</td>\n    </tr>\n    <tr>\n      <th>1919</th>\n      <td>50ETF\u6cbd3\u67082804A</td>\n      <td>0.1297</td>\n    </tr>\n    <tr>\n      <th>1920</th>\n      <td>50ETF\u6cbd3\u67082853A</td>\n      <td>0.1516</td>\n    </tr>\n    <tr>\n      <th>1921</th>\n      <td>50ETF\u6cbd3\u67082903A</td>\n      <td>0.1761</td>\n    </tr>\n  </tbody>\n</table>\n</div>",
                        "text/plain": "               name  list_price\n1917  50ETF\u6cbd3\u67082706A      0.0897\n1918  50ETF\u6cbd3\u67082755A      0.1089\n1919  50ETF\u6cbd3\u67082804A      0.1297\n1920  50ETF\u6cbd3\u67082853A      0.1516\n1921  50ETF\u6cbd3\u67082903A      0.1761"
                    },
                    "execution_count": 195,
                    "metadata": {},
                    "output_type": "execute_result"
                }
            ],
            "source": "Near_Term_Put_Options.head()"
        },
        {
            "cell_type": "code",
            "execution_count": 196,
            "metadata": {},
            "outputs": [
                {
                    "data": {
                        "text/html": "<div>\n<style scoped>\n    .dataframe tbody tr th:only-of-type {\n        vertical-align: middle;\n    }\n\n    .dataframe tbody tr th {\n        vertical-align: top;\n    }\n\n    .dataframe thead th {\n        text-align: right;\n    }\n</style>\n<table border=\"1\" class=\"dataframe\">\n  <thead>\n    <tr style=\"text-align: right;\">\n      <th></th>\n      <th>name</th>\n      <th>list_price</th>\n    </tr>\n  </thead>\n  <tbody>\n    <tr>\n      <th>2341</th>\n      <td>50ETF\u6cbd4\u67082700</td>\n      <td>0.0357</td>\n    </tr>\n    <tr>\n      <th>2342</th>\n      <td>50ETF\u6cbd4\u67082750</td>\n      <td>0.0463</td>\n    </tr>\n    <tr>\n      <th>2343</th>\n      <td>50ETF\u6cbd4\u67082800</td>\n      <td>0.0613</td>\n    </tr>\n    <tr>\n      <th>2344</th>\n      <td>50ETF\u6cbd4\u67082850</td>\n      <td>0.0778</td>\n    </tr>\n    <tr>\n      <th>2345</th>\n      <td>50ETF\u6cbd4\u67082900</td>\n      <td>0.0981</td>\n    </tr>\n  </tbody>\n</table>\n</div>",
                        "text/plain": "              name  list_price\n2341  50ETF\u6cbd4\u67082700      0.0357\n2342  50ETF\u6cbd4\u67082750      0.0463\n2343  50ETF\u6cbd4\u67082800      0.0613\n2344  50ETF\u6cbd4\u67082850      0.0778\n2345  50ETF\u6cbd4\u67082900      0.0981"
                    },
                    "execution_count": 196,
                    "metadata": {},
                    "output_type": "execute_result"
                }
            ],
            "source": "Next_Term_Put_Options.head()"
        },
        {
            "cell_type": "code",
            "execution_count": 197,
            "metadata": {},
            "outputs": [],
            "source": "import re\ndef getStrikePrices(names):\n    # Create pattern for filter out strike prices\n    pattern = re.compile('[0-9][0-9][0-9][0-9]')\n    strike_prices = []\n    for name in names:\n        strike_price = re.findall(pattern, name)[0]\n        strike_prices.append(float(strike_price))\n    return strike_prices"
        },
        {
            "cell_type": "code",
            "execution_count": 200,
            "metadata": {},
            "outputs": [],
            "source": "# Add strike prices back to call options table\nNear_Term_Call_Options['Strike Price'] = getStrikePrices(Near_Term_Call_Options['name'].values)\nNext_Term_Call_Options['Strike Price'] = getStrikePrices(Next_Term_Call_Options['name'].values)\n\n# Add strike prices back to put options table\nNear_Term_Put_Options['Strike Price'] = getStrikePrices(Near_Term_Put_Options['name'].values)\nNext_Term_Put_Options['Strike Price'] = getStrikePrices(Next_Term_Put_Options['name'].values)"
        },
        {
            "cell_type": "code",
            "execution_count": 206,
            "metadata": {},
            "outputs": [],
            "source": "# Combine Near-term options\nNrTCO = Near_Term_Call_Options.set_index('Strike Price').drop(columns='name').rename(columns={'list_price':'Call'})\nNrTPO = Near_Term_Put_Options.set_index('Strike Price').drop(columns='name').rename(columns={'list_price':'Put'})\n# Combine Near-term options\nNtTCO = Next_Term_Call_Options.set_index('Strike Price').drop(columns='name').rename(columns={'list_price':'Call'})\nNtTPO = Next_Term_Put_Options.set_index('Strike Price').drop(columns='name').rename(columns={'list_price':'Put'})"
        },
        {
            "cell_type": "code",
            "execution_count": 207,
            "metadata": {},
            "outputs": [],
            "source": "Com_Near_Term_Options = NrTCO.join(NrTPO, on='Strike Price')\nCom_Next_Term_Options = NtTCO.join(NtTPO, on='Strike Price')"
        },
        {
            "cell_type": "code",
            "execution_count": 210,
            "metadata": {},
            "outputs": [],
            "source": "Com_Near_Term_Options['Difference'] = Com_Near_Term_Options['Call'] - Com_Near_Term_Options['Put']\nCom_Next_Term_Options['Difference'] = Com_Next_Term_Options['Call'] - Com_Next_Term_Options['Put']"
        },
        {
            "cell_type": "code",
            "execution_count": 267,
            "metadata": {},
            "outputs": [
                {
                    "data": {
                        "text/html": "<div>\n<style scoped>\n    .dataframe tbody tr th:only-of-type {\n        vertical-align: middle;\n    }\n\n    .dataframe tbody tr th {\n        vertical-align: top;\n    }\n\n    .dataframe thead th {\n        text-align: right;\n    }\n</style>\n<table border=\"1\" class=\"dataframe\">\n  <thead>\n    <tr style=\"text-align: right;\">\n      <th></th>\n      <th>Call</th>\n      <th>Put</th>\n      <th>Difference</th>\n    </tr>\n    <tr>\n      <th>Strike Price</th>\n      <th></th>\n      <th></th>\n      <th></th>\n    </tr>\n  </thead>\n  <tbody>\n    <tr>\n      <th>2706.0</th>\n      <td>0.3401</td>\n      <td>0.0897</td>\n      <td>0.2504</td>\n    </tr>\n    <tr>\n      <th>2755.0</th>\n      <td>0.3085</td>\n      <td>0.1089</td>\n      <td>0.1996</td>\n    </tr>\n    <tr>\n      <th>2804.0</th>\n      <td>0.2814</td>\n      <td>0.1297</td>\n      <td>0.1517</td>\n    </tr>\n    <tr>\n      <th>2853.0</th>\n      <td>0.2542</td>\n      <td>0.1516</td>\n      <td>0.1026</td>\n    </tr>\n    <tr>\n      <th>2903.0</th>\n      <td>0.2285</td>\n      <td>0.1761</td>\n      <td>0.0524</td>\n    </tr>\n  </tbody>\n</table>\n</div>",
                        "text/plain": "                Call     Put  Difference\nStrike Price                            \n2706.0        0.3401  0.0897      0.2504\n2755.0        0.3085  0.1089      0.1996\n2804.0        0.2814  0.1297      0.1517\n2853.0        0.2542  0.1516      0.1026\n2903.0        0.2285  0.1761      0.0524"
                    },
                    "execution_count": 267,
                    "metadata": {},
                    "output_type": "execute_result"
                }
            ],
            "source": "Com_Near_Term_Options.head()"
        },
        {
            "cell_type": "code",
            "execution_count": 266,
            "metadata": {},
            "outputs": [
                {
                    "data": {
                        "text/html": "<div>\n<style scoped>\n    .dataframe tbody tr th:only-of-type {\n        vertical-align: middle;\n    }\n\n    .dataframe tbody tr th {\n        vertical-align: top;\n    }\n\n    .dataframe thead th {\n        text-align: right;\n    }\n</style>\n<table border=\"1\" class=\"dataframe\">\n  <thead>\n    <tr style=\"text-align: right;\">\n      <th></th>\n      <th>Call</th>\n      <th>Put</th>\n      <th>Difference</th>\n    </tr>\n    <tr>\n      <th>Strike Price</th>\n      <th></th>\n      <th></th>\n      <th></th>\n    </tr>\n  </thead>\n  <tbody>\n    <tr>\n      <th>2700.0</th>\n      <td>0.2442</td>\n      <td>0.0357</td>\n      <td>0.2085</td>\n    </tr>\n    <tr>\n      <th>2750.0</th>\n      <td>0.2009</td>\n      <td>0.0463</td>\n      <td>0.1546</td>\n    </tr>\n    <tr>\n      <th>2800.0</th>\n      <td>0.1651</td>\n      <td>0.0613</td>\n      <td>0.1038</td>\n    </tr>\n    <tr>\n      <th>2850.0</th>\n      <td>0.1349</td>\n      <td>0.0778</td>\n      <td>0.0571</td>\n    </tr>\n    <tr>\n      <th>2900.0</th>\n      <td>0.1060</td>\n      <td>0.0981</td>\n      <td>0.0079</td>\n    </tr>\n  </tbody>\n</table>\n</div>",
                        "text/plain": "                Call     Put  Difference\nStrike Price                            \n2700.0        0.2442  0.0357      0.2085\n2750.0        0.2009  0.0463      0.1546\n2800.0        0.1651  0.0613      0.1038\n2850.0        0.1349  0.0778      0.0571\n2900.0        0.1060  0.0981      0.0079"
                    },
                    "execution_count": 266,
                    "metadata": {},
                    "output_type": "execute_result"
                }
            ],
            "source": "Com_Next_Term_Options.head()"
        },
        {
            "cell_type": "markdown",
            "metadata": {},
            "source": "## Determine $F_1$ and $F_2$"
        },
        {
            "cell_type": "code",
            "execution_count": 256,
            "metadata": {},
            "outputs": [],
            "source": "search_F_1 = Com_Near_Term_Options.reset_index()\nsearch_F_2 = Com_Next_Term_Options.reset_index()"
        },
        {
            "cell_type": "code",
            "execution_count": 269,
            "metadata": {},
            "outputs": [
                {
                    "data": {
                        "text/html": "<div>\n<style scoped>\n    .dataframe tbody tr th:only-of-type {\n        vertical-align: middle;\n    }\n\n    .dataframe tbody tr th {\n        vertical-align: top;\n    }\n\n    .dataframe thead th {\n        text-align: right;\n    }\n</style>\n<table border=\"1\" class=\"dataframe\">\n  <thead>\n    <tr style=\"text-align: right;\">\n      <th></th>\n      <th>Strike Price</th>\n      <th>Call</th>\n      <th>Put</th>\n      <th>Difference</th>\n    </tr>\n  </thead>\n  <tbody>\n    <tr>\n      <th>0</th>\n      <td>2700.0</td>\n      <td>0.2442</td>\n      <td>0.0357</td>\n      <td>0.2085</td>\n    </tr>\n    <tr>\n      <th>1</th>\n      <td>2750.0</td>\n      <td>0.2009</td>\n      <td>0.0463</td>\n      <td>0.1546</td>\n    </tr>\n    <tr>\n      <th>2</th>\n      <td>2800.0</td>\n      <td>0.1651</td>\n      <td>0.0613</td>\n      <td>0.1038</td>\n    </tr>\n    <tr>\n      <th>3</th>\n      <td>2850.0</td>\n      <td>0.1349</td>\n      <td>0.0778</td>\n      <td>0.0571</td>\n    </tr>\n    <tr>\n      <th>4</th>\n      <td>2900.0</td>\n      <td>0.1060</td>\n      <td>0.0981</td>\n      <td>0.0079</td>\n    </tr>\n    <tr>\n      <th>5</th>\n      <td>2950.0</td>\n      <td>0.0816</td>\n      <td>0.1225</td>\n      <td>-0.0409</td>\n    </tr>\n    <tr>\n      <th>6</th>\n      <td>3000.0</td>\n      <td>0.0623</td>\n      <td>0.1529</td>\n      <td>-0.0906</td>\n    </tr>\n    <tr>\n      <th>7</th>\n      <td>3100.0</td>\n      <td>0.0350</td>\n      <td>0.2300</td>\n      <td>-0.1950</td>\n    </tr>\n    <tr>\n      <th>8</th>\n      <td>3200.0</td>\n      <td>0.0191</td>\n      <td>0.3146</td>\n      <td>-0.2955</td>\n    </tr>\n    <tr>\n      <th>9</th>\n      <td>2600.0</td>\n      <td>0.2485</td>\n      <td>0.0265</td>\n      <td>0.2220</td>\n    </tr>\n    <tr>\n      <th>10</th>\n      <td>2650.0</td>\n      <td>0.2097</td>\n      <td>0.0381</td>\n      <td>0.1716</td>\n    </tr>\n    <tr>\n      <th>11</th>\n      <td>3300.0</td>\n      <td>0.0061</td>\n      <td>0.3610</td>\n      <td>-0.3549</td>\n    </tr>\n    <tr>\n      <th>12</th>\n      <td>3400.0</td>\n      <td>0.0064</td>\n      <td>0.3960</td>\n      <td>-0.3896</td>\n    </tr>\n    <tr>\n      <th>13</th>\n      <td>2500.0</td>\n      <td>0.2452</td>\n      <td>0.0680</td>\n      <td>0.1772</td>\n    </tr>\n    <tr>\n      <th>14</th>\n      <td>2550.0</td>\n      <td>0.2111</td>\n      <td>0.0853</td>\n      <td>0.1258</td>\n    </tr>\n    <tr>\n      <th>15</th>\n      <td>2400.0</td>\n      <td>0.2431</td>\n      <td>0.0463</td>\n      <td>0.1968</td>\n    </tr>\n    <tr>\n      <th>16</th>\n      <td>2450.0</td>\n      <td>0.2031</td>\n      <td>0.0607</td>\n      <td>0.1424</td>\n    </tr>\n    <tr>\n      <th>17</th>\n      <td>2350.0</td>\n      <td>0.2472</td>\n      <td>0.0405</td>\n      <td>0.2067</td>\n    </tr>\n  </tbody>\n</table>\n</div>",
                        "text/plain": "    Strike Price    Call     Put  Difference\n0         2700.0  0.2442  0.0357      0.2085\n1         2750.0  0.2009  0.0463      0.1546\n2         2800.0  0.1651  0.0613      0.1038\n3         2850.0  0.1349  0.0778      0.0571\n4         2900.0  0.1060  0.0981      0.0079\n5         2950.0  0.0816  0.1225     -0.0409\n6         3000.0  0.0623  0.1529     -0.0906\n7         3100.0  0.0350  0.2300     -0.1950\n8         3200.0  0.0191  0.3146     -0.2955\n9         2600.0  0.2485  0.0265      0.2220\n10        2650.0  0.2097  0.0381      0.1716\n11        3300.0  0.0061  0.3610     -0.3549\n12        3400.0  0.0064  0.3960     -0.3896\n13        2500.0  0.2452  0.0680      0.1772\n14        2550.0  0.2111  0.0853      0.1258\n15        2400.0  0.2431  0.0463      0.1968\n16        2450.0  0.2031  0.0607      0.1424\n17        2350.0  0.2472  0.0405      0.2067"
                    },
                    "execution_count": 269,
                    "metadata": {},
                    "output_type": "execute_result"
                }
            ],
            "source": "search_F_2"
        },
        {
            "cell_type": "code",
            "execution_count": 270,
            "metadata": {},
            "outputs": [
                {
                    "data": {
                        "text/plain": "array([2700., 2750., 2800., 2850., 2900., 2950., 3000., 3100., 3200.,\n       2600., 2650., 3300., 3400., 2500., 2550., 2400., 2450., 2350.])"
                    },
                    "execution_count": 270,
                    "metadata": {},
                    "output_type": "execute_result"
                }
            ],
            "source": "search_F_2['Strike Price'].values"
        },
        {
            "cell_type": "code",
            "execution_count": 271,
            "metadata": {},
            "outputs": [
                {
                    "data": {
                        "text/plain": "array([ 0.2085,  0.1546,  0.1038,  0.0571,  0.0079, -0.0409, -0.0906,\n       -0.195 , -0.2955,  0.222 ,  0.1716, -0.3549, -0.3896,  0.1772,\n        0.1258,  0.1968,  0.1424,  0.2067])"
                    },
                    "execution_count": 271,
                    "metadata": {},
                    "output_type": "execute_result"
                }
            ],
            "source": "search_F_2['Difference'].values"
        },
        {
            "cell_type": "code",
            "execution_count": 273,
            "metadata": {},
            "outputs": [
                {
                    "name": "stdout",
                    "output_type": "stream",
                    "text": "Call Option Price - Put Price for F1: 0.0039000000000000146\tCall Option Price - Put Option Price for F2: 0.00789999999999999\nStrike Price for F1: 2952.0\tStrike Price for F2: 2900.0\n"
                }
            ],
            "source": "# Call Option Price - Put Option Price for F1\nC_P_Diff_F1 = search_F_1['Difference'].values[0]\nStrike_Price_F1 = search_F_1['Strike Price'].values[0]\nmin_diff = abs(search_F_1['Difference'].values[0])\nfor i in range(1, len(search_F_1['Difference'].values)):\n    if abs(search_F_1['Difference'].values[i]) < min_diff:\n        min_diff = abs(search_F_1['Difference'].values[i])\n        C_P_Diff_F1 = search_F_1['Difference'].values[i]\n        Strike_Price_F1 = search_F_1['Strike Price'].values[i]\n\n# Call Option Price - Put Option Price for F2\nC_P_Diff_F2 = search_F_2['Difference'].values[0]\nStrike_Price_F2 = search_F_2['Strike Price'].values[0]\nmin_diff = abs(search_F_2['Difference'].values[0])\nfor i in range(1, len(search_F_2['Difference'].values)):\n    if abs(search_F_2['Difference'].values[i]) < min_diff:\n        min_diff = abs(search_F_2['Difference'].values[i])\n        C_P_Diff_F2 = search_F_2['Difference'].values[i]\n        Strike_Price_F2 = search_F_2['Strike Price'].values[i]\n\nprint('Call Option Price - Put Price for F1: {}\\tCall Option Price - Put Option Price for F2: {}'.format(C_P_Diff_F1, C_P_Diff_F2))\nprint('Strike Price for F1: {}\\tStrike Price for F2: {}'.format(Strike_Price_F1, Strike_Price_F2))"
        },
        {
            "cell_type": "code",
            "execution_count": 274,
            "metadata": {},
            "outputs": [],
            "source": "import math"
        },
        {
            "cell_type": "code",
            "execution_count": 275,
            "metadata": {},
            "outputs": [
                {
                    "name": "stdout",
                    "output_type": "stream",
                    "text": "F1: 2952.0039011733093\tF2: 2900.007911988461\n"
                }
            ],
            "source": "F1 = Strike_Price_F1 + math.exp(R1 * T1) * C_P_Diff_F1\nF2 = Strike_Price_F2 + math.exp(R2 * T2) * C_P_Diff_F2\nprint('F1: {}\\tF2: {}'.format(F1, F2))"
        },
        {
            "cell_type": "markdown",
            "metadata": {},
            "source": "## Determine $K_{0,1}$ and $K_{0,2}$"
        },
        {
            "cell_type": "code",
            "execution_count": 288,
            "metadata": {},
            "outputs": [],
            "source": "K01 = Strike_Price_F1\nK02 = Strike_Price_F2"
        },
        {
            "cell_type": "markdown",
            "metadata": {},
            "source": "Select out-of-the-money put options with strike prices < $K0$.  Start with the put strike immediately lower than $K0$ and move to successively lower strike prices.  Exclude any put option that has a bid price equal to zero (i.e., no bid).  As shown below, once two puts with consecutive strike prices are found to have zero bid prices, no puts with lower strikes are considered for inclusion.  (Note that the 1350 and 1355 put options are not included despite having non-zero bid prices.)"
        },
        {
            "cell_type": "markdown",
            "metadata": {},
            "source": "## Determine $K_i$: Strike price of ith out-of-the-money option; a call if $K_i > K_0$ and a put if $K_i < K_0$; both put and call if $K_i = K_0$."
        },
        {
            "cell_type": "code",
            "execution_count": 310,
            "metadata": {},
            "outputs": [],
            "source": "Sorted_Com_Near_Term_Options = Com_Near_Term_Options.sort_index()\nSorted_Com_Next_Term_Options = Com_Next_Term_Options.sort_index()"
        },
        {
            "cell_type": "code",
            "execution_count": 311,
            "metadata": {},
            "outputs": [],
            "source": "#Determin Ki for Near Term\nNear_term_Strike = Sorted_Com_Near_Term_Options.index\nNear_term_Option_Type = []\nMid_Point_Price = []\nfor i in range(0, len(Near_term_Strike)):\n    if Near_term_Strike[i] > K01:\n        Near_term_Option_Type.append('CO')\n        Mid_Point_Price.append(Sorted_Com_Near_Term_Options['Call'].values[i])\n    elif Near_term_Strike[i] < K01:\n        Near_term_Option_Type.append('PO')\n        Mid_Point_Price.append(Sorted_Com_Near_Term_Options['Put'].values[i])\n    elif Near_term_Strike[i] == K01:\n        Near_term_Option_Type.append('CO&PO')\n        Mid_Point_Price.append((Sorted_Com_Near_Term_Options['Put'].values[i + 1] + Sorted_Com_Near_Term_Options['Put'].values[i - 1])/2)\n                               \nSorted_Com_Near_Term_Options['Option Type'] = Near_term_Option_Type\nSorted_Com_Near_Term_Options['Midpoint Price'] = Mid_Point_Price\n\n#Determin Ki for Next Term\nNext_term_Strike = Sorted_Com_Next_Term_Options.index\nNext_term_Option_Type = []\nMid_Point_Price = []\nfor i in range(0, len(Next_term_Strike)):\n    if Next_term_Strike[i] > K01:\n        Next_term_Option_Type.append('CO')\n        Mid_Point_Price.append(Sorted_Com_Next_Term_Options['Call'].values[i])\n    elif Next_term_Strike[i] < K01:\n        Next_term_Option_Type.append('PO')\n        Mid_Point_Price.append(Sorted_Com_Next_Term_Options['Put'].values[i])\n    elif Next_term_Strike[i] == K01:\n        Next_term_Option_Type.append('CO&PO')\n        Mid_Point_Price.append((Sorted_Com_Next_Term_Options['Put'].values[i + 1] + Sorted_Com_Next_Term_Options['Put'].values[i - 1])/2)\n        \nSorted_Com_Next_Term_Options['Option Type'] = Next_term_Option_Type\nSorted_Com_Next_Term_Options['Midpoint Price'] = Mid_Point_Price"
        },
        {
            "cell_type": "markdown",
            "metadata": {},
            "source": "### The Midpoint Price is $Q(K)$"
        },
        {
            "cell_type": "code",
            "execution_count": 313,
            "metadata": {},
            "outputs": [
                {
                    "data": {
                        "text/html": "<div>\n<style scoped>\n    .dataframe tbody tr th:only-of-type {\n        vertical-align: middle;\n    }\n\n    .dataframe tbody tr th {\n        vertical-align: top;\n    }\n\n    .dataframe thead th {\n        text-align: right;\n    }\n</style>\n<table border=\"1\" class=\"dataframe\">\n  <thead>\n    <tr style=\"text-align: right;\">\n      <th></th>\n      <th>Call</th>\n      <th>Put</th>\n      <th>Difference</th>\n      <th>Option Type</th>\n      <th>Midpoint Price</th>\n    </tr>\n    <tr>\n      <th>Strike Price</th>\n      <th></th>\n      <th></th>\n      <th></th>\n      <th></th>\n      <th></th>\n    </tr>\n  </thead>\n  <tbody>\n    <tr>\n      <th>2350.0</th>\n      <td>0.2190</td>\n      <td>0.0036</td>\n      <td>0.2154</td>\n      <td>PO</td>\n      <td>0.0036</td>\n    </tr>\n    <tr>\n      <th>2400.0</th>\n      <td>0.2194</td>\n      <td>0.0067</td>\n      <td>0.2127</td>\n      <td>PO</td>\n      <td>0.0067</td>\n    </tr>\n    <tr>\n      <th>2450.0</th>\n      <td>0.1694</td>\n      <td>0.0130</td>\n      <td>0.1564</td>\n      <td>PO</td>\n      <td>0.0130</td>\n    </tr>\n    <tr>\n      <th>2500.0</th>\n      <td>0.2180</td>\n      <td>0.0619</td>\n      <td>0.1561</td>\n      <td>PO</td>\n      <td>0.0619</td>\n    </tr>\n    <tr>\n      <th>2550.0</th>\n      <td>0.1723</td>\n      <td>0.0781</td>\n      <td>0.0942</td>\n      <td>PO</td>\n      <td>0.0781</td>\n    </tr>\n  </tbody>\n</table>\n</div>",
                        "text/plain": "                Call     Put  Difference Option Type  Midpoint Price\nStrike Price                                                        \n2350.0        0.2190  0.0036      0.2154          PO          0.0036\n2400.0        0.2194  0.0067      0.2127          PO          0.0067\n2450.0        0.1694  0.0130      0.1564          PO          0.0130\n2500.0        0.2180  0.0619      0.1561          PO          0.0619\n2550.0        0.1723  0.0781      0.0942          PO          0.0781"
                    },
                    "execution_count": 313,
                    "metadata": {},
                    "output_type": "execute_result"
                }
            ],
            "source": "Sorted_Com_Near_Term_Options.head()"
        },
        {
            "cell_type": "code",
            "execution_count": 314,
            "metadata": {},
            "outputs": [
                {
                    "data": {
                        "text/html": "<div>\n<style scoped>\n    .dataframe tbody tr th:only-of-type {\n        vertical-align: middle;\n    }\n\n    .dataframe tbody tr th {\n        vertical-align: top;\n    }\n\n    .dataframe thead th {\n        text-align: right;\n    }\n</style>\n<table border=\"1\" class=\"dataframe\">\n  <thead>\n    <tr style=\"text-align: right;\">\n      <th></th>\n      <th>Call</th>\n      <th>Put</th>\n      <th>Difference</th>\n      <th>Option Type</th>\n      <th>Midpoint Price</th>\n    </tr>\n    <tr>\n      <th>Strike Price</th>\n      <th></th>\n      <th></th>\n      <th></th>\n      <th></th>\n      <th></th>\n    </tr>\n  </thead>\n  <tbody>\n    <tr>\n      <th>2350.0</th>\n      <td>0.2472</td>\n      <td>0.0405</td>\n      <td>0.2067</td>\n      <td>PO</td>\n      <td>0.0405</td>\n    </tr>\n    <tr>\n      <th>2400.0</th>\n      <td>0.2431</td>\n      <td>0.0463</td>\n      <td>0.1968</td>\n      <td>PO</td>\n      <td>0.0463</td>\n    </tr>\n    <tr>\n      <th>2450.0</th>\n      <td>0.2031</td>\n      <td>0.0607</td>\n      <td>0.1424</td>\n      <td>PO</td>\n      <td>0.0607</td>\n    </tr>\n    <tr>\n      <th>2500.0</th>\n      <td>0.2452</td>\n      <td>0.0680</td>\n      <td>0.1772</td>\n      <td>PO</td>\n      <td>0.0680</td>\n    </tr>\n    <tr>\n      <th>2550.0</th>\n      <td>0.2111</td>\n      <td>0.0853</td>\n      <td>0.1258</td>\n      <td>PO</td>\n      <td>0.0853</td>\n    </tr>\n  </tbody>\n</table>\n</div>",
                        "text/plain": "                Call     Put  Difference Option Type  Midpoint Price\nStrike Price                                                        \n2350.0        0.2472  0.0405      0.2067          PO          0.0405\n2400.0        0.2431  0.0463      0.1968          PO          0.0463\n2450.0        0.2031  0.0607      0.1424          PO          0.0607\n2500.0        0.2452  0.0680      0.1772          PO          0.0680\n2550.0        0.2111  0.0853      0.1258          PO          0.0853"
                    },
                    "execution_count": 314,
                    "metadata": {},
                    "output_type": "execute_result"
                }
            ],
            "source": "Sorted_Com_Next_Term_Options.head()"
        },
        {
            "cell_type": "markdown",
            "metadata": {},
            "source": "## Determine $\\varDelta K_i$: Interval between strike prices - half the difference between the strike on either side of $K_i$"
        },
        {
            "cell_type": "code",
            "execution_count": 328,
            "metadata": {},
            "outputs": [],
            "source": "# Delta K for Near Term\nNear_Term_Delta_K_source = Sorted_Com_Near_Term_Options.index\nNear_Term_Delta_K_target = []\nNear_Term_Delta_K_target.append((Near_Term_Delta_K_source[1] - Near_Term_Delta_K_source[0]) / 2)\n\nn = Near_Term_Delta_K_source.size\nfor i in range(1, n - 1):\n    delta_k = (Near_Term_Delta_K_source[i + 1] - Near_Term_Delta_K_source[i - 1]) / 2\n    Near_Term_Delta_K_target.append(delta_k)\n    \nNear_Term_Delta_K_target.append((Near_Term_Delta_K_source[n - 1] - Near_Term_Delta_K_source[n - 2]) / 2)\nSorted_Com_Near_Term_Options['Delta K'] = Near_Term_Delta_K_target\n    \n# Delta K for Near Term\nNext_Term_Delta_K_source = Sorted_Com_Next_Term_Options.index\nNext_Term_Delta_K_target = []\nNext_Term_Delta_K_target.append((Next_Term_Delta_K_source[1] - Next_Term_Delta_K_source[0]) / 2)\n\nn = Next_Term_Delta_K_source.size\nfor i in range(1, n - 1):\n    delta_k = (Next_Term_Delta_K_source[i + 1] - Next_Term_Delta_K_source[i - 1]) / 2\n    Next_Term_Delta_K_target.append(delta_k)\n    \nNext_Term_Delta_K_target.append((Next_Term_Delta_K_source[n - 1] - Next_Term_Delta_K_source[n - 2]) / 2)\nSorted_Com_Next_Term_Options['Delta K'] = Next_Term_Delta_K_target"
        },
        {
            "cell_type": "markdown",
            "metadata": {},
            "source": "## Step 2: Calculate volatility for both near-term and next-term options "
        },
        {
            "cell_type": "code",
            "execution_count": 333,
            "metadata": {},
            "outputs": [],
            "source": "Sorted_Com_Near_Term_Options.rename(columns={'Midpoint Price': 'Q_K'}, inplace=True)"
        },
        {
            "cell_type": "code",
            "execution_count": 334,
            "metadata": {},
            "outputs": [],
            "source": "Sorted_Com_Next_Term_Options.rename(columns={'Midpoint Price': 'Q_K'}, inplace=True)"
        },
        {
            "cell_type": "code",
            "execution_count": 336,
            "metadata": {},
            "outputs": [],
            "source": "Final_Near_Term_Options = Sorted_Com_Near_Term_Options.copy()\nFinal_Next_Term_Options = Sorted_Com_Next_Term_Options.copy()"
        },
        {
            "cell_type": "markdown",
            "metadata": {},
            "source": "$\\sigma^2=\\frac{2}{T}\\sum_i\\frac{\\varDelta K_i}{K_i^2}e^{RT}Q(K_i)-\\frac{1}{T}[\\frac{F}{K_0}-1]^2$"
        },
        {
            "cell_type": "markdown",
            "metadata": {},
            "source": "$\\sigma^2_1$"
        },
        {
            "cell_type": "code",
            "execution_count": 338,
            "metadata": {},
            "outputs": [
                {
                    "data": {
                        "text/html": "<div>\n<style scoped>\n    .dataframe tbody tr th:only-of-type {\n        vertical-align: middle;\n    }\n\n    .dataframe tbody tr th {\n        vertical-align: top;\n    }\n\n    .dataframe thead th {\n        text-align: right;\n    }\n</style>\n<table border=\"1\" class=\"dataframe\">\n  <thead>\n    <tr style=\"text-align: right;\">\n      <th></th>\n      <th>Call</th>\n      <th>Put</th>\n      <th>Difference</th>\n      <th>Option Type</th>\n      <th>Q_K</th>\n      <th>Delta K</th>\n    </tr>\n    <tr>\n      <th>Strike Price</th>\n      <th></th>\n      <th></th>\n      <th></th>\n      <th></th>\n      <th></th>\n      <th></th>\n    </tr>\n  </thead>\n  <tbody>\n    <tr>\n      <th>2350.0</th>\n      <td>0.2190</td>\n      <td>0.0036</td>\n      <td>0.2154</td>\n      <td>PO</td>\n      <td>0.0036</td>\n      <td>25.0</td>\n    </tr>\n    <tr>\n      <th>2400.0</th>\n      <td>0.2194</td>\n      <td>0.0067</td>\n      <td>0.2127</td>\n      <td>PO</td>\n      <td>0.0067</td>\n      <td>50.0</td>\n    </tr>\n    <tr>\n      <th>2450.0</th>\n      <td>0.1694</td>\n      <td>0.0130</td>\n      <td>0.1564</td>\n      <td>PO</td>\n      <td>0.0130</td>\n      <td>50.0</td>\n    </tr>\n    <tr>\n      <th>2500.0</th>\n      <td>0.2180</td>\n      <td>0.0619</td>\n      <td>0.1561</td>\n      <td>PO</td>\n      <td>0.0619</td>\n      <td>50.0</td>\n    </tr>\n    <tr>\n      <th>2550.0</th>\n      <td>0.1723</td>\n      <td>0.0781</td>\n      <td>0.0942</td>\n      <td>PO</td>\n      <td>0.0781</td>\n      <td>29.0</td>\n    </tr>\n  </tbody>\n</table>\n</div>",
                        "text/plain": "                Call     Put  Difference Option Type     Q_K  Delta K\nStrike Price                                                         \n2350.0        0.2190  0.0036      0.2154          PO  0.0036     25.0\n2400.0        0.2194  0.0067      0.2127          PO  0.0067     50.0\n2450.0        0.1694  0.0130      0.1564          PO  0.0130     50.0\n2500.0        0.2180  0.0619      0.1561          PO  0.0619     50.0\n2550.0        0.1723  0.0781      0.0942          PO  0.0781     29.0"
                    },
                    "execution_count": 338,
                    "metadata": {},
                    "output_type": "execute_result"
                }
            ],
            "source": "Final_Near_Term_Options.head()"
        },
        {
            "cell_type": "code",
            "execution_count": 340,
            "metadata": {},
            "outputs": [
                {
                    "name": "stdout",
                    "output_type": "stream",
                    "text": "T1=0.018230498477929985\tF=2952.0039011733093\tK01=2952.0\tR1=0.0165\n"
                }
            ],
            "source": "print('T1={}\\tF={}\\tK01={}\\tR1={}'.format(T1, F1, K01, R1))"
        },
        {
            "cell_type": "code",
            "execution_count": 341,
            "metadata": {},
            "outputs": [],
            "source": "Delta_K = Final_Near_Term_Options['Delta K']\nK = Final_Near_Term_Options.index\nQ_K = Final_Near_Term_Options['Q_K']"
        },
        {
            "cell_type": "code",
            "execution_count": 356,
            "metadata": {},
            "outputs": [],
            "source": "sigma_square_1 = (2 / T1 * sum(Delta_K / K**2 * math.exp(R1 * T1) * Q_K)) - 1 / T1 * (F1 / K01 - 1)**2"
        },
        {
            "cell_type": "markdown",
            "metadata": {},
            "source": "$\\sigma^2_2$"
        },
        {
            "cell_type": "code",
            "execution_count": 357,
            "metadata": {},
            "outputs": [
                {
                    "data": {
                        "text/html": "<div>\n<style scoped>\n    .dataframe tbody tr th:only-of-type {\n        vertical-align: middle;\n    }\n\n    .dataframe tbody tr th {\n        vertical-align: top;\n    }\n\n    .dataframe thead th {\n        text-align: right;\n    }\n</style>\n<table border=\"1\" class=\"dataframe\">\n  <thead>\n    <tr style=\"text-align: right;\">\n      <th></th>\n      <th>Call</th>\n      <th>Put</th>\n      <th>Difference</th>\n      <th>Option Type</th>\n      <th>Q_K</th>\n      <th>Delta K</th>\n    </tr>\n    <tr>\n      <th>Strike Price</th>\n      <th></th>\n      <th></th>\n      <th></th>\n      <th></th>\n      <th></th>\n      <th></th>\n    </tr>\n  </thead>\n  <tbody>\n    <tr>\n      <th>2350.0</th>\n      <td>0.2472</td>\n      <td>0.0405</td>\n      <td>0.2067</td>\n      <td>PO</td>\n      <td>0.0405</td>\n      <td>25.0</td>\n    </tr>\n    <tr>\n      <th>2400.0</th>\n      <td>0.2431</td>\n      <td>0.0463</td>\n      <td>0.1968</td>\n      <td>PO</td>\n      <td>0.0463</td>\n      <td>50.0</td>\n    </tr>\n    <tr>\n      <th>2450.0</th>\n      <td>0.2031</td>\n      <td>0.0607</td>\n      <td>0.1424</td>\n      <td>PO</td>\n      <td>0.0607</td>\n      <td>50.0</td>\n    </tr>\n    <tr>\n      <th>2500.0</th>\n      <td>0.2452</td>\n      <td>0.0680</td>\n      <td>0.1772</td>\n      <td>PO</td>\n      <td>0.0680</td>\n      <td>50.0</td>\n    </tr>\n    <tr>\n      <th>2550.0</th>\n      <td>0.2111</td>\n      <td>0.0853</td>\n      <td>0.1258</td>\n      <td>PO</td>\n      <td>0.0853</td>\n      <td>50.0</td>\n    </tr>\n  </tbody>\n</table>\n</div>",
                        "text/plain": "                Call     Put  Difference Option Type     Q_K  Delta K\nStrike Price                                                         \n2350.0        0.2472  0.0405      0.2067          PO  0.0405     25.0\n2400.0        0.2431  0.0463      0.1968          PO  0.0463     50.0\n2450.0        0.2031  0.0607      0.1424          PO  0.0607     50.0\n2500.0        0.2452  0.0680      0.1772          PO  0.0680     50.0\n2550.0        0.2111  0.0853      0.1258          PO  0.0853     50.0"
                    },
                    "execution_count": 357,
                    "metadata": {},
                    "output_type": "execute_result"
                }
            ],
            "source": "Final_Next_Term_Options.head()"
        },
        {
            "cell_type": "code",
            "execution_count": 358,
            "metadata": {},
            "outputs": [
                {
                    "name": "stdout",
                    "output_type": "stream",
                    "text": "T2=0.10042227929984779\tF=2900.007911988461\tK02=2900.0\tR2=0.0151\n"
                }
            ],
            "source": "print('T2={}\\tF={}\\tK02={}\\tR2={}'.format(T2, F2, K02, R2))"
        },
        {
            "cell_type": "code",
            "execution_count": 359,
            "metadata": {},
            "outputs": [],
            "source": "sigma_square_2 = (2 / T2 * sum(Delta_K / K**2 * math.exp(R2 * T2) * Q_K)) - 1 / T2 * (F2 / K02 - 1)**2"
        },
        {
            "cell_type": "code",
            "execution_count": 361,
            "metadata": {},
            "outputs": [
                {
                    "name": "stdout",
                    "output_type": "stream",
                    "text": "Sigma_Square_1=0.0010154720804418948\tSigma_Square_2=0.0001845713292744068\n"
                }
            ],
            "source": "print('Sigma_Square_1={}\\tSigma_Square_2={}'.format(sigma_square_1, sigma_square_2))"
        },
        {
            "cell_type": "markdown",
            "metadata": {},
            "source": "## Step 3\n\nCalculate the 30-day weighted average of \u03c321 and \u03c322.  Then take the square root of that value and multiply by 100 to get the VIX Index value."
        },
        {
            "cell_type": "markdown",
            "metadata": {},
            "source": "$VIX = 100\\times\\sqrt{\\left{T_1\\sigma^2_1\\left[\\frac{N_T_2-N_30}{N_T_2-N_T_1}\\right] + T_2\\sigma^2_2\\left[\\frac{N_30-N_T_1}{N_T_2-N_T_1}\\right]\\right}\\times\\frac{N_365}{N_30}}$"
        },
        {
            "cell_type": "markdown",
            "metadata": {},
            "source": "$VIX = 100\\times\\sqrt{\\left\\{ T_1\\sigma^2_1  \\left[ \\frac{N_{T_2}-N_{30}}{N_{T_2}-N_{T_1}} \\right] + T_2\\sigma^2_2 \\left[ \\frac{N_{T_{30}}-N_{T_1}}{N_{T_2}-N_{T_1}} \\right] \\right\\}\\times\\frac{N_{365}}{N_{30}}}$"
        },
        {
            "cell_type": "code",
            "execution_count": 367,
            "metadata": {},
            "outputs": [],
            "source": "N_T_1 = M_current + M_settlement_near_term + M_other_near_term\nN_T_2 = M_current + M_settlement_next_term + M_other_next_term\nN_30 = 30 * 24 * 60\nN_365 = 365 * 24 * 60"
        },
        {
            "cell_type": "markdown",
            "metadata": {},
            "source": "## Determine VIX"
        },
        {
            "cell_type": "code",
            "execution_count": 370,
            "metadata": {},
            "outputs": [],
            "source": "VIX = 100 * math.sqrt(\\\n                     (T1 * sigma_square_1 * (N_T_2 - N_30) / (N_T_2 - N_T_1) + \\\n                     T2 * sigma_square_2 * (N_30 - N_T_1) / (N_T_2 - N_T_1)) * \\\n                     N_365 / N_30)"
        },
        {
            "cell_type": "code",
            "execution_count": 371,
            "metadata": {},
            "outputs": [
                {
                    "data": {
                        "text/plain": "1.501496960579997"
                    },
                    "execution_count": 371,
                    "metadata": {},
                    "output_type": "execute_result"
                }
            ],
            "source": "VIX"
        }
    ],
    "metadata": {
        "kernelspec": {
            "display_name": "Python 3.6",
            "language": "python",
            "name": "python3"
        },
        "language_info": {
            "codemirror_mode": {
                "name": "ipython",
                "version": 3
            },
            "file_extension": ".py",
            "mimetype": "text/x-python",
            "name": "python",
            "nbconvert_exporter": "python",
            "pygments_lexer": "ipython3",
            "version": "3.6.9"
        }
    },
    "nbformat": 4,
    "nbformat_minor": 4
}